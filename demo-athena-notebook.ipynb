{
 "cells": [
  {
   "cell_type": "markdown",
   "metadata": {},
   "source": [
    "# Apache Iceberg Demo"
   ]
  },
  {
   "cell_type": "code",
   "execution_count": null,
   "metadata": {},
   "outputs": [],
   "source": [
    "spark.sql(\"use tpch_iceberg\")"
   ]
  },
  {
   "cell_type": "markdown",
   "metadata": {},
   "source": [
    "## Adding a column"
   ]
  },
  {
   "cell_type": "code",
   "execution_count": null,
   "metadata": {},
   "outputs": [],
   "source": [
    "%%sql\n",
    "alter table spark_catalog.tpch_iceberg.customer \n",
    "add column c_email string after c_name;\n"
   ]
  },
  {
   "cell_type": "code",
   "execution_count": null,
   "metadata": {},
   "outputs": [],
   "source": [
    "%%sql\n",
    "describe table spark_catalog.tpch_iceberg.customer"
   ]
  },
  {
   "cell_type": "markdown",
   "metadata": {},
   "source": [
    "## Rollback example"
   ]
  },
  {
   "cell_type": "code",
   "execution_count": null,
   "metadata": {},
   "outputs": [],
   "source": [
    "%%sql\n",
    "select committed_at,snapshot_id from spark_catalog.tpch_iceberg.customer.snapshots"
   ]
  },
  {
   "cell_type": "code",
   "execution_count": null,
   "metadata": {},
   "outputs": [],
   "source": [
    "%%sql\n",
    "CALL spark_catalog.system.rollback_to_snapshot('tpch_iceberg.customer', 5359419852330289230)"
   ]
  },
  {
   "cell_type": "markdown",
   "metadata": {},
   "source": [
    "## Create table with partiton by day"
   ]
  },
  {
   "cell_type": "code",
   "execution_count": null,
   "metadata": {},
   "outputs": [],
   "source": [
    "%%sql\n",
    "CREATE TABLE IF NOT EXISTS lineitem_day (\n",
    "    l_orderkey BIGINT,\n",
    "    l_partkey BIGINT,\n",
    "    l_suppkey BIGINT,\n",
    "    l_linenumber INT,\n",
    "    l_quantity DECIMAL(15,2),\n",
    "    l_extendedprice DECIMAL(15,2),\n",
    "    l_discount DECIMAL(15,2),\n",
    "    l_tax DECIMAL(15,2),\n",
    "    l_returnflag STRING,\n",
    "    l_linestatus STRING,\n",
    "    l_shipdate DATE,\n",
    "    l_commitdate DATE,\n",
    "    l_receiptdate DATE,\n",
    "    l_shipinstruct STRING,\n",
    "    l_shipmode STRING,\n",
    "    l_comment STRING\n",
    ") USING iceberg\n",
    "PARTITIONED BY (days(l_shipdate))\n",
    "TBLPROPERTIES (\n",
    "    'write.format.default' = 'parquet',\n",
    "    'write.parquet.compression-codec' = 'snappy',\n",
    "    'format-version' = '2'\n",
    ")"
   ]
  },
  {
   "cell_type": "markdown",
   "metadata": {},
   "source": [
    "## Create table with partition by bucket"
   ]
  },
  {
   "cell_type": "code",
   "execution_count": null,
   "metadata": {},
   "outputs": [],
   "source": [
    "%%sql \n",
    "CREATE TABLE IF NOT EXISTS customer_bucket (\n",
    "    c_custkey BIGINT,\n",
    "    c_name STRING,\n",
    "    c_address STRING,\n",
    "    c_nationkey BIGINT,\n",
    "    c_phone STRING,\n",
    "    c_acctbal DECIMAL(15,2),\n",
    "    c_mktsegment STRING,\n",
    "    c_comment STRING\n",
    ") USING iceberg\n",
    "PARTITIONED BY (bucket(10, c_custkey))\n",
    "TBLPROPERTIES (\n",
    "    'write.format.default' = 'parquet',\n",
    "    'write.parquet.compression-codec' = 'snappy',\n",
    "    'format-version' = '2'\n",
    ")"
   ]
  },
  {
   "cell_type": "markdown",
   "metadata": {},
   "source": [
    "## Dataframes example"
   ]
  },
  {
   "cell_type": "code",
   "execution_count": null,
   "metadata": {},
   "outputs": [],
   "source": [
    "customer_df = spark.table(\"customer\")"
   ]
  },
  {
   "cell_type": "code",
   "execution_count": null,
   "metadata": {},
   "outputs": [],
   "source": [
    "customer_df.groupBy('c_mktsegment').count().orderBy('count',ascending=False).show()"
   ]
  },
  {
   "cell_type": "markdown",
   "metadata": {},
   "source": [
    "## Drop column"
   ]
  },
  {
   "cell_type": "code",
   "execution_count": null,
   "metadata": {},
   "outputs": [],
   "source": [
    "%%sql\n",
    "alter table spark_catalog.tpch_iceberg.customer drop column c_email;"
   ]
  },
  {
   "cell_type": "markdown",
   "metadata": {},
   "source": [
    "## Drop table"
   ]
  },
  {
   "cell_type": "code",
   "execution_count": null,
   "metadata": {},
   "outputs": [],
   "source": [
    "%%sql\n",
    "drop table customer_bucket"
   ]
  },
  {
   "cell_type": "code",
   "execution_count": null,
   "metadata": {},
   "outputs": [],
   "source": [
    "%%sql \n",
    "drop table lineitem_day"
   ]
  },
  {
   "cell_type": "code",
   "execution_count": null,
   "metadata": {},
   "outputs": [],
   "source": []
  }
 ],
 "metadata": {
  "kernelspec": {
   "display_name": "Athena PySpark",
   "language": "python",
   "name": "kepler_python_kernel"
  },
  "language_info": {
   "codemirror_mode": {
    "name": "python",
    "version": 3
   },
   "file_extension": ".py",
   "mimetype": "text/x-python",
   "name": "Python_Session",
   "pygments_lexer": "python3"
  }
 },
 "nbformat": 4,
 "nbformat_minor": 1
}
